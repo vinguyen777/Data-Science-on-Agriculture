{
 "cells": [
  {
   "cell_type": "markdown",
   "id": "e754c9b4-50fb-4ec7-b8cf-54b174019101",
   "metadata": {},
   "source": [
    "# Validation Notebook\n",
    "\n",
    "## Import Library"
   ]
  },
  {
   "cell_type": "code",
   "execution_count": 1,
   "id": "c7e81e32-9c1c-479b-9679-3f430f22eaec",
   "metadata": {},
   "outputs": [],
   "source": [
    "import warnings\n",
    "import pickle\n",
    "warnings.filterwarnings('ignore')\n",
    "\n",
    "import numpy as np\n",
    "import pandas as pd\n",
    "\n",
    "from tensorflow.keras.models import Sequential\n",
    "from tensorflow.keras.layers import Dense, Dropout, Flatten, ConvLSTM2D, BatchNormalization\n",
    "import tensorflow as tf\n",
    "import keras"
   ]
  },
  {
   "cell_type": "markdown",
   "id": "b2f3115e-89da-400f-891b-38450e3f74d9",
   "metadata": {},
   "source": [
    "## Import Satellite Data for Unseen Locations\n",
    "#### Define Functions Used to Import Data"
   ]
  },
  {
   "cell_type": "code",
   "execution_count": 2,
   "id": "f7fe51dc-6458-45ca-8366-2d06953947eb",
   "metadata": {},
   "outputs": [],
   "source": [
    "# Opens pickled data from scraped files, which contains vv and vh data for unseen locations\n",
    "def read_file(month):\n",
    "    with open(f'{month}.pkl', 'rb') as file:\n",
    "        return pickle.load(file)"
   ]
  },
  {
   "cell_type": "code",
   "execution_count": 3,
   "id": "3fcdcf77-ab2c-4604-8aed-d3d7acf156bb",
   "metadata": {},
   "outputs": [],
   "source": [
    "# Process datasets to be uniform in the number of timsteps and pixels per sample \n",
    "def reshapeData3D(dataset, pixel, instances):\n",
    "    dataset_reshaped1 = []\n",
    "    for i in dataset:\n",
    "        if i.shape[2] > pixel and i.shape[1] > pixel:\n",
    "            dataset_reshaped1.append(i[:,:(pixel-i.shape[1]),:(pixel-i.shape[2])])\n",
    "        elif i.shape[1] > pixel:\n",
    "            dataset_reshaped1.append(i[:,:(pixel-i.shape[1]),:])\n",
    "        elif i.shape[2] > pixel:\n",
    "            dataset_reshaped1.append(i[:,:,:(pixel-i.shape[2])])\n",
    "        else:\n",
    "            dataset_reshaped1.append(i)\n",
    "\n",
    "    dataset_reshaped = []\n",
    "    for i in dataset_reshaped1:\n",
    "        if i.shape[0] >instances:\n",
    "            dataset_reshaped.append(i[:instances,:,:])\n",
    "        else:\n",
    "            dataset_reshaped.append((i[:,:,:]))\n",
    "    return [np.transpose(i) for i in dataset_reshaped]"
   ]
  },
  {
   "cell_type": "markdown",
   "id": "a9090504-b6b2-41f7-9746-ddae26251f44",
   "metadata": {},
   "source": [
    "#### Import Data"
   ]
  },
  {
   "cell_type": "code",
   "execution_count": 4,
   "id": "592cfeaf-6c25-4140-b4b3-7c2b4c7accdb",
   "metadata": {},
   "outputs": [],
   "source": [
    "#Standardising the shape of VV and VH data samples\n",
    "VH = reshapeData3D(read_file('APR-AUG_VH'), 90, 24)\n",
    "VV = reshapeData3D(read_file('APR-AUG_VV'), 90, 24)\n",
    "\n",
    "#Performing matrix calculations to derive the RGB values for each sample\n",
    "RGB = []\n",
    "for i in range(len(VV)):\n",
    "    RGB.append(np.reshape(np.stack([VH[i], VV[i], np.divide(VH[i], VV[i])]), (1,24, 90, 90, 3)))\n",
    "    \n",
    "#Reshaping training data to represent the tuple: (number of samples, timesteps, dimensions, pixels X, pixels Y)\n",
    "#the last 250 rows are VV and VH data for unseen locations\n",
    "X_test = np.array(RGB).reshape(850, 24, 3, 90, 90)[600:] "
   ]
  },
  {
   "cell_type": "code",
   "execution_count": 5,
   "id": "3f9e1c1a-903b-4a08-96b8-6aa449fbbc89",
   "metadata": {},
   "outputs": [
    {
     "data": {
      "text/plain": [
       "(250, 24, 3, 90, 90)"
      ]
     },
     "execution_count": 5,
     "metadata": {},
     "output_type": "execute_result"
    }
   ],
   "source": [
    "X_test.shape"
   ]
  },
  {
   "cell_type": "markdown",
   "id": "782bf75b-f24b-4865-a98b-da7eeb6bab9a",
   "metadata": {},
   "source": [
    "## Import Trained Model"
   ]
  },
  {
   "cell_type": "code",
   "execution_count": 6,
   "id": "c6492073-408b-4096-95e6-d55c8435809f",
   "metadata": {},
   "outputs": [
    {
     "name": "stderr",
     "output_type": "stream",
     "text": [
      "2023-04-10 14:21:37.537842: I tensorflow/core/platform/cpu_feature_guard.cc:193] This TensorFlow binary is optimized with oneAPI Deep Neural Network Library (oneDNN) to use the following CPU instructions in performance-critical operations:  AVX2 FMA\n",
      "To enable them in other operations, rebuild TensorFlow with the appropriate compiler flags.\n"
     ]
    }
   ],
   "source": [
    "# Open pickle file\n",
    "with open('Model (1).pkl', 'rb') as file:\n",
    "    # Load trained model from pickle file\n",
    "    model = pickle.load(file)"
   ]
  },
  {
   "cell_type": "code",
   "execution_count": 7,
   "id": "a50796be-5daf-4af1-9c64-ec73defd1ae6",
   "metadata": {
    "tags": []
   },
   "outputs": [
    {
     "name": "stdout",
     "output_type": "stream",
     "text": [
      "Model: \"sequential\"\n",
      "_________________________________________________________________\n",
      " Layer (type)                Output Shape              Param #   \n",
      "=================================================================\n",
      " conv_lstm2d (ConvLSTM2D)    (None, 24, 3, 90, 32)     140672    \n",
      "                                                                 \n",
      " batch_normalization (BatchN  (None, 24, 3, 90, 32)    1080      \n",
      " ormalization)                                                   \n",
      "                                                                 \n",
      " conv_lstm2d_1 (ConvLSTM2D)  (None, 24, 3, 90, 64)     221440    \n",
      "                                                                 \n",
      " dropout (Dropout)           (None, 24, 3, 90, 64)     0         \n",
      "                                                                 \n",
      " batch_normalization_1 (Batc  (None, 24, 3, 90, 64)    1080      \n",
      " hNormalization)                                                 \n",
      "                                                                 \n",
      " conv_lstm2d_2 (ConvLSTM2D)  (None, 24, 3, 90, 128)    885248    \n",
      "                                                                 \n",
      " dropout_1 (Dropout)         (None, 24, 3, 90, 128)    0         \n",
      "                                                                 \n",
      " batch_normalization_2 (Batc  (None, 24, 3, 90, 128)   1080      \n",
      " hNormalization)                                                 \n",
      "                                                                 \n",
      " batch_normalization_3 (Batc  (None, 24, 3, 90, 128)   1080      \n",
      " hNormalization)                                                 \n",
      "                                                                 \n",
      " flatten (Flatten)           (None, 829440)            0         \n",
      "                                                                 \n",
      " dense (Dense)               (None, 1)                 829441    \n",
      "                                                                 \n",
      "=================================================================\n",
      "Total params: 2,081,121\n",
      "Trainable params: 2,078,961\n",
      "Non-trainable params: 2,160\n",
      "_________________________________________________________________\n"
     ]
    }
   ],
   "source": [
    "# Show the summary of trained model\n",
    "model.summary()"
   ]
  },
  {
   "cell_type": "code",
   "execution_count": 8,
   "id": "29c31ac9-049a-4022-9b96-4c1001c58f31",
   "metadata": {},
   "outputs": [],
   "source": [
    "## Used Trained Model to Predict Unseen Locations"
   ]
  },
  {
   "cell_type": "code",
   "execution_count": 9,
   "id": "81c5ee2c-4e89-4ce7-80a3-515f8eedf272",
   "metadata": {},
   "outputs": [
    {
     "name": "stdout",
     "output_type": "stream",
     "text": [
      "8/8 [==============================] - 23s 3s/step\n"
     ]
    }
   ],
   "source": [
    "y_pred = model.predict(X_test)\n",
    "\n",
    "\n",
    "result = []\n",
    "for i in y_pred:\n",
    "    # the output layer use sigmoid function, \n",
    "    # if the output is > 0.5, we predict 'Rice'\n",
    "    # otherwise, we predict 'Non Rice'\n",
    "    if i>0.5:\n",
    "        result.append('Rice')\n",
    "    else:\n",
    "        result.append('Non Rice')"
   ]
  },
  {
   "cell_type": "code",
   "execution_count": 10,
   "id": "f5ed6884-3299-43ac-a82c-c6ebc80b1bf1",
   "metadata": {},
   "outputs": [],
   "source": [
    "submission = pd.read_csv('challenge_1_submission_template_correct_columns_fixed.csv')\n",
    "# store the prediction in the submission\n",
    "submission['target'] = result"
   ]
  },
  {
   "cell_type": "code",
   "execution_count": 11,
   "id": "1e6a3d25-f76c-4bef-8581-7e74c99ad08a",
   "metadata": {},
   "outputs": [
    {
     "data": {
      "text/html": [
       "<div>\n",
       "<style scoped>\n",
       "    .dataframe tbody tr th:only-of-type {\n",
       "        vertical-align: middle;\n",
       "    }\n",
       "\n",
       "    .dataframe tbody tr th {\n",
       "        vertical-align: top;\n",
       "    }\n",
       "\n",
       "    .dataframe thead th {\n",
       "        text-align: right;\n",
       "    }\n",
       "</style>\n",
       "<table border=\"1\" class=\"dataframe\">\n",
       "  <thead>\n",
       "    <tr style=\"text-align: right;\">\n",
       "      <th></th>\n",
       "      <th>id</th>\n",
       "      <th>target</th>\n",
       "    </tr>\n",
       "  </thead>\n",
       "  <tbody>\n",
       "    <tr>\n",
       "      <th>0</th>\n",
       "      <td>(10.18019073690894, 105.32022315786804)</td>\n",
       "      <td>Rice</td>\n",
       "    </tr>\n",
       "    <tr>\n",
       "      <th>1</th>\n",
       "      <td>(10.561107033461816, 105.12772097986661)</td>\n",
       "      <td>Rice</td>\n",
       "    </tr>\n",
       "    <tr>\n",
       "      <th>2</th>\n",
       "      <td>(10.623790611954897, 105.13771401411867)</td>\n",
       "      <td>Rice</td>\n",
       "    </tr>\n",
       "    <tr>\n",
       "      <th>3</th>\n",
       "      <td>(10.583364246115156, 105.23946127195805)</td>\n",
       "      <td>Non Rice</td>\n",
       "    </tr>\n",
       "    <tr>\n",
       "      <th>4</th>\n",
       "      <td>(10.20744446668854, 105.26844107128906)</td>\n",
       "      <td>Rice</td>\n",
       "    </tr>\n",
       "    <tr>\n",
       "      <th>...</th>\n",
       "      <td>...</td>\n",
       "      <td>...</td>\n",
       "    </tr>\n",
       "    <tr>\n",
       "      <th>245</th>\n",
       "      <td>(10.308283266873062, 105.50872812216863)</td>\n",
       "      <td>Non Rice</td>\n",
       "    </tr>\n",
       "    <tr>\n",
       "      <th>246</th>\n",
       "      <td>(10.582910017285496, 105.23991550078767)</td>\n",
       "      <td>Non Rice</td>\n",
       "    </tr>\n",
       "    <tr>\n",
       "      <th>247</th>\n",
       "      <td>(10.581547330796518, 105.23991550078767)</td>\n",
       "      <td>Non Rice</td>\n",
       "    </tr>\n",
       "    <tr>\n",
       "      <th>248</th>\n",
       "      <td>(10.629241357910818, 105.15315779432643)</td>\n",
       "      <td>Rice</td>\n",
       "    </tr>\n",
       "    <tr>\n",
       "      <th>249</th>\n",
       "      <td>(10.574733898351617, 105.10410108072531)</td>\n",
       "      <td>Rice</td>\n",
       "    </tr>\n",
       "  </tbody>\n",
       "</table>\n",
       "<p>250 rows × 2 columns</p>\n",
       "</div>"
      ],
      "text/plain": [
       "                                           id    target\n",
       "0     (10.18019073690894, 105.32022315786804)      Rice\n",
       "1    (10.561107033461816, 105.12772097986661)      Rice\n",
       "2    (10.623790611954897, 105.13771401411867)      Rice\n",
       "3    (10.583364246115156, 105.23946127195805)  Non Rice\n",
       "4     (10.20744446668854, 105.26844107128906)      Rice\n",
       "..                                        ...       ...\n",
       "245  (10.308283266873062, 105.50872812216863)  Non Rice\n",
       "246  (10.582910017285496, 105.23991550078767)  Non Rice\n",
       "247  (10.581547330796518, 105.23991550078767)  Non Rice\n",
       "248  (10.629241357910818, 105.15315779432643)      Rice\n",
       "249  (10.574733898351617, 105.10410108072531)      Rice\n",
       "\n",
       "[250 rows x 2 columns]"
      ]
     },
     "execution_count": 11,
     "metadata": {},
     "output_type": "execute_result"
    }
   ],
   "source": [
    "submission"
   ]
  }
 ],
 "metadata": {
  "kernelspec": {
   "display_name": "Python 3 (ipykernel)",
   "language": "python",
   "name": "python3"
  },
  "language_info": {
   "codemirror_mode": {
    "name": "ipython",
    "version": 3
   },
   "file_extension": ".py",
   "mimetype": "text/x-python",
   "name": "python",
   "nbconvert_exporter": "python",
   "pygments_lexer": "ipython3",
   "version": "3.8.2"
  }
 },
 "nbformat": 4,
 "nbformat_minor": 5
}
